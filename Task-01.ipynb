{
 "cells": [
  {
   "cell_type": "code",
   "execution_count": 10,
   "id": "1666b4a3",
   "metadata": {},
   "outputs": [
    {
     "name": "stdout",
     "output_type": "stream",
     "text": [
      "Twikle, Twikle , Litle Star \n",
      "\t How i wonder what you are! \n",
      "\t\t Up above the world so high! \n",
      "\t\t Like a diamond in the Sky\n",
      "Twikle, Twikle , Litle Star \n",
      "\t How i wonder what you are!\n"
     ]
    }
   ],
   "source": [
    "print(\"Twikle, Twikle , Litle Star \\n\\t How i wonder what you are! \\n\\t\\t Up above the world so high! \\n\\t\\t Like a diamond in the Sky\");\n",
    "print(\"Twikle, Twikle , Litle Star \\n\\t How i wonder what you are!\");"
   ]
  },
  {
   "cell_type": "code",
   "execution_count": 11,
   "id": "483ca909",
   "metadata": {},
   "outputs": [
    {
     "name": "stdout",
     "output_type": "stream",
     "text": [
      "3.8.8 (default, Apr 13 2021, 15:08:03) [MSC v.1916 64 bit (AMD64)]\n"
     ]
    }
   ],
   "source": [
    "import sys\n",
    "print(sys.version)"
   ]
  },
  {
   "cell_type": "code",
   "execution_count": 12,
   "id": "3292a7e5",
   "metadata": {},
   "outputs": [
    {
     "name": "stdout",
     "output_type": "stream",
     "text": [
      "2021-12-28 23:31:05.787615\n"
     ]
    }
   ],
   "source": [
    "import datetime\n",
    "print(datetime.datetime.now());"
   ]
  },
  {
   "cell_type": "code",
   "execution_count": 13,
   "id": "9afd28fb",
   "metadata": {},
   "outputs": [
    {
     "name": "stdout",
     "output_type": "stream",
     "text": [
      "Enter the Radius of Circle: 2\n",
      "12.56\n"
     ]
    }
   ],
   "source": [
    "from math import pi\n",
    "radius=float(input(\"Enter the Radius of Circle:  \"));\n",
    "print(3.14*radius*radius)"
   ]
  },
  {
   "cell_type": "code",
   "execution_count": 17,
   "id": "7aba8bfd",
   "metadata": {},
   "outputs": [
    {
     "name": "stdout",
     "output_type": "stream",
     "text": [
      "First name: Muhammad Rizwan\n",
      "Last name: Jamali\n",
      "Jamali Muhammad Rizwan\n"
     ]
    }
   ],
   "source": [
    "first=input(\"First name: \")\n",
    "last=input(\"Last name: \")\n",
    "print(last+\" \"+first)"
   ]
  },
  {
   "cell_type": "code",
   "execution_count": 25,
   "id": "fe813386",
   "metadata": {},
   "outputs": [
    {
     "name": "stdout",
     "output_type": "stream",
     "text": [
      "Enter 1st Number : 12\n",
      "Enter 2nd Number : 12\n",
      "Result of Addition: \n",
      "24\n"
     ]
    }
   ],
   "source": [
    "num1 = int(input(\"Enter 1st Number : \"))\n",
    "num2 = int(input(\"Enter 2nd Number : \"))\n",
    "result=num1+num2;\n",
    "print(\"Result of Addition: \")\n",
    "print(result)"
   ]
  },
  {
   "cell_type": "code",
   "execution_count": null,
   "id": "c6e29ebe",
   "metadata": {},
   "outputs": [],
   "source": []
  }
 ],
 "metadata": {
  "kernelspec": {
   "display_name": "Python 3",
   "language": "python",
   "name": "python3"
  },
  "language_info": {
   "codemirror_mode": {
    "name": "ipython",
    "version": 3
   },
   "file_extension": ".py",
   "mimetype": "text/x-python",
   "name": "python",
   "nbconvert_exporter": "python",
   "pygments_lexer": "ipython3",
   "version": "3.8.8"
  }
 },
 "nbformat": 4,
 "nbformat_minor": 5
}
